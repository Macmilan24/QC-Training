{
  "nbformat": 4,
  "nbformat_minor": 0,
  "metadata": {
    "colab": {
      "provenance": []
    },
    "kernelspec": {
      "name": "python3",
      "display_name": "Python 3"
    },
    "language_info": {
      "name": "python"
    }
  },
  "cells": [
    {
      "cell_type": "code",
      "source": [
        "!pip install qiskit\n",
        "!pip install qiskit-aer\n",
        "import qiskit\n",
        "from qiskit.visualization import plot_histogram\n",
        "from qiskit_aer.primitives import SamplerV2"
      ],
      "metadata": {
        "id": "_zL14bLPnx0S",
        "colab": {
          "base_uri": "https://localhost:8080/"
        },
        "collapsed": true,
        "outputId": "6db9fb0d-f081-494c-8758-52c64a5ed6e5"
      },
      "execution_count": 1,
      "outputs": [
        {
          "output_type": "stream",
          "name": "stdout",
          "text": [
            "Collecting qiskit\n",
            "  Downloading qiskit-2.0.0-cp39-abi3-manylinux_2_17_x86_64.manylinux2014_x86_64.whl.metadata (12 kB)\n",
            "Collecting rustworkx>=0.15.0 (from qiskit)\n",
            "  Downloading rustworkx-0.16.0-cp39-abi3-manylinux_2_17_x86_64.manylinux2014_x86_64.whl.metadata (10 kB)\n",
            "Requirement already satisfied: numpy<3,>=1.17 in /usr/local/lib/python3.11/dist-packages (from qiskit) (2.0.2)\n",
            "Requirement already satisfied: scipy>=1.5 in /usr/local/lib/python3.11/dist-packages (from qiskit) (1.14.1)\n",
            "Requirement already satisfied: sympy>=1.3 in /usr/local/lib/python3.11/dist-packages (from qiskit) (1.13.1)\n",
            "Collecting dill>=0.3 (from qiskit)\n",
            "  Downloading dill-0.3.9-py3-none-any.whl.metadata (10 kB)\n",
            "Requirement already satisfied: python-dateutil>=2.8.0 in /usr/local/lib/python3.11/dist-packages (from qiskit) (2.8.2)\n",
            "Collecting stevedore>=3.0.0 (from qiskit)\n",
            "  Downloading stevedore-5.4.1-py3-none-any.whl.metadata (2.3 kB)\n",
            "Requirement already satisfied: typing-extensions in /usr/local/lib/python3.11/dist-packages (from qiskit) (4.13.0)\n",
            "Collecting symengine<0.14,>=0.11 (from qiskit)\n",
            "  Downloading symengine-0.13.0-cp311-cp311-manylinux_2_17_x86_64.manylinux2014_x86_64.whl.metadata (1.2 kB)\n",
            "Requirement already satisfied: six>=1.5 in /usr/local/lib/python3.11/dist-packages (from python-dateutil>=2.8.0->qiskit) (1.17.0)\n",
            "Collecting pbr>=2.0.0 (from stevedore>=3.0.0->qiskit)\n",
            "  Downloading pbr-6.1.1-py2.py3-none-any.whl.metadata (3.4 kB)\n",
            "Requirement already satisfied: mpmath<1.4,>=1.1.0 in /usr/local/lib/python3.11/dist-packages (from sympy>=1.3->qiskit) (1.3.0)\n",
            "Requirement already satisfied: setuptools in /usr/local/lib/python3.11/dist-packages (from pbr>=2.0.0->stevedore>=3.0.0->qiskit) (75.2.0)\n",
            "Downloading qiskit-2.0.0-cp39-abi3-manylinux_2_17_x86_64.manylinux2014_x86_64.whl (6.5 MB)\n",
            "\u001b[2K   \u001b[90m━━━━━━━━━━━━━━━━━━━━━━━━━━━━━━━━━━━━━━━━\u001b[0m \u001b[32m6.5/6.5 MB\u001b[0m \u001b[31m33.9 MB/s\u001b[0m eta \u001b[36m0:00:00\u001b[0m\n",
            "\u001b[?25hDownloading dill-0.3.9-py3-none-any.whl (119 kB)\n",
            "\u001b[2K   \u001b[90m━━━━━━━━━━━━━━━━━━━━━━━━━━━━━━━━━━━━━━━━\u001b[0m \u001b[32m119.4/119.4 kB\u001b[0m \u001b[31m7.6 MB/s\u001b[0m eta \u001b[36m0:00:00\u001b[0m\n",
            "\u001b[?25hDownloading rustworkx-0.16.0-cp39-abi3-manylinux_2_17_x86_64.manylinux2014_x86_64.whl (2.1 MB)\n",
            "\u001b[2K   \u001b[90m━━━━━━━━━━━━━━━━━━━━━━━━━━━━━━━━━━━━━━━━\u001b[0m \u001b[32m2.1/2.1 MB\u001b[0m \u001b[31m23.8 MB/s\u001b[0m eta \u001b[36m0:00:00\u001b[0m\n",
            "\u001b[?25hDownloading stevedore-5.4.1-py3-none-any.whl (49 kB)\n",
            "\u001b[2K   \u001b[90m━━━━━━━━━━━━━━━━━━━━━━━━━━━━━━━━━━━━━━━━\u001b[0m \u001b[32m49.5/49.5 kB\u001b[0m \u001b[31m2.5 MB/s\u001b[0m eta \u001b[36m0:00:00\u001b[0m\n",
            "\u001b[?25hDownloading symengine-0.13.0-cp311-cp311-manylinux_2_17_x86_64.manylinux2014_x86_64.whl (49.7 MB)\n",
            "\u001b[2K   \u001b[90m━━━━━━━━━━━━━━━━━━━━━━━━━━━━━━━━━━━━━━━━\u001b[0m \u001b[32m49.7/49.7 MB\u001b[0m \u001b[31m11.5 MB/s\u001b[0m eta \u001b[36m0:00:00\u001b[0m\n",
            "\u001b[?25hDownloading pbr-6.1.1-py2.py3-none-any.whl (108 kB)\n",
            "\u001b[2K   \u001b[90m━━━━━━━━━━━━━━━━━━━━━━━━━━━━━━━━━━━━━━━━\u001b[0m \u001b[32m109.0/109.0 kB\u001b[0m \u001b[31m3.1 MB/s\u001b[0m eta \u001b[36m0:00:00\u001b[0m\n",
            "\u001b[?25hInstalling collected packages: symengine, rustworkx, pbr, dill, stevedore, qiskit\n",
            "Successfully installed dill-0.3.9 pbr-6.1.1 qiskit-2.0.0 rustworkx-0.16.0 stevedore-5.4.1 symengine-0.13.0\n",
            "Collecting qiskit-aer\n",
            "  Downloading qiskit_aer-0.17.0-cp311-cp311-manylinux_2_17_x86_64.manylinux2014_x86_64.whl.metadata (8.2 kB)\n",
            "Requirement already satisfied: qiskit>=1.1.0 in /usr/local/lib/python3.11/dist-packages (from qiskit-aer) (2.0.0)\n",
            "Requirement already satisfied: numpy>=1.16.3 in /usr/local/lib/python3.11/dist-packages (from qiskit-aer) (2.0.2)\n",
            "Requirement already satisfied: scipy>=1.0 in /usr/local/lib/python3.11/dist-packages (from qiskit-aer) (1.14.1)\n",
            "Requirement already satisfied: psutil>=5 in /usr/local/lib/python3.11/dist-packages (from qiskit-aer) (5.9.5)\n",
            "Requirement already satisfied: rustworkx>=0.15.0 in /usr/local/lib/python3.11/dist-packages (from qiskit>=1.1.0->qiskit-aer) (0.16.0)\n",
            "Requirement already satisfied: sympy>=1.3 in /usr/local/lib/python3.11/dist-packages (from qiskit>=1.1.0->qiskit-aer) (1.13.1)\n",
            "Requirement already satisfied: dill>=0.3 in /usr/local/lib/python3.11/dist-packages (from qiskit>=1.1.0->qiskit-aer) (0.3.9)\n",
            "Requirement already satisfied: python-dateutil>=2.8.0 in /usr/local/lib/python3.11/dist-packages (from qiskit>=1.1.0->qiskit-aer) (2.8.2)\n",
            "Requirement already satisfied: stevedore>=3.0.0 in /usr/local/lib/python3.11/dist-packages (from qiskit>=1.1.0->qiskit-aer) (5.4.1)\n",
            "Requirement already satisfied: typing-extensions in /usr/local/lib/python3.11/dist-packages (from qiskit>=1.1.0->qiskit-aer) (4.13.0)\n",
            "Requirement already satisfied: symengine<0.14,>=0.11 in /usr/local/lib/python3.11/dist-packages (from qiskit>=1.1.0->qiskit-aer) (0.13.0)\n",
            "Requirement already satisfied: six>=1.5 in /usr/local/lib/python3.11/dist-packages (from python-dateutil>=2.8.0->qiskit>=1.1.0->qiskit-aer) (1.17.0)\n",
            "Requirement already satisfied: pbr>=2.0.0 in /usr/local/lib/python3.11/dist-packages (from stevedore>=3.0.0->qiskit>=1.1.0->qiskit-aer) (6.1.1)\n",
            "Requirement already satisfied: mpmath<1.4,>=1.1.0 in /usr/local/lib/python3.11/dist-packages (from sympy>=1.3->qiskit>=1.1.0->qiskit-aer) (1.3.0)\n",
            "Requirement already satisfied: setuptools in /usr/local/lib/python3.11/dist-packages (from pbr>=2.0.0->stevedore>=3.0.0->qiskit>=1.1.0->qiskit-aer) (75.2.0)\n",
            "Downloading qiskit_aer-0.17.0-cp311-cp311-manylinux_2_17_x86_64.manylinux2014_x86_64.whl (12.4 MB)\n",
            "\u001b[2K   \u001b[90m━━━━━━━━━━━━━━━━━━━━━━━━━━━━━━━━━━━━━━━━\u001b[0m \u001b[32m12.4/12.4 MB\u001b[0m \u001b[31m43.0 MB/s\u001b[0m eta \u001b[36m0:00:00\u001b[0m\n",
            "\u001b[?25hInstalling collected packages: qiskit-aer\n",
            "Successfully installed qiskit-aer-0.17.0\n"
          ]
        }
      ]
    },
    {
      "cell_type": "markdown",
      "source": [
        "# **Create a Quantum Circuit with a Hadamard Gate**\n",
        "\n",
        "- Write a Qiskit program to create a single-qubit circuit.\n",
        "- Apply a Hadamard gate to the qubit.\n",
        "- Measure the qubit and visualize the result using a histogram."
      ],
      "metadata": {
        "id": "ysQsgitQnmez"
      }
    },
    {
      "cell_type": "code",
      "source": [
        "#Insert the code here\n",
        "\n",
        "# initialize the circuit\n",
        "circ = qiskit.QuantumCircuit(1)\n",
        "\n",
        "# Apply Hadamard date\n",
        "circ.h(0)\n",
        "\n",
        "# measure the qubit\n",
        "circ.measure_all()\n",
        "\n",
        "# Visualize the ciruit\n",
        "circ.draw()"
      ],
      "metadata": {
        "id": "UUWWwCtVnykV",
        "colab": {
          "base_uri": "https://localhost:8080/",
          "height": 94
        },
        "outputId": "d8f51a59-3178-45d4-f4c2-d9246c699d95"
      },
      "execution_count": 5,
      "outputs": [
        {
          "output_type": "execute_result",
          "data": {
            "text/plain": [
              "        ┌───┐ ░ ┌─┐\n",
              "     q: ┤ H ├─░─┤M├\n",
              "        └───┘ ░ └╥┘\n",
              "meas: 1/═════════╩═\n",
              "                 0 "
            ],
            "text/html": [
              "<pre style=\"word-wrap: normal;white-space: pre;background: #fff0;line-height: 1.1;font-family: &quot;Courier New&quot;,Courier,monospace\">        ┌───┐ ░ ┌─┐\n",
              "     q: ┤ H ├─░─┤M├\n",
              "        └───┘ ░ └╥┘\n",
              "meas: 1/═════════╩═\n",
              "                 0 </pre>"
            ]
          },
          "metadata": {},
          "execution_count": 5
        }
      ]
    },
    {
      "cell_type": "code",
      "source": [
        "# visualize the result using a histogram.\n",
        "sampler = SamplerV2()\n",
        "job = sampler.run([circ], shots=128)\n",
        "\n",
        "# perform ideal simulation\n",
        "result_ideal = job.result()\n",
        "counts_ideal = result_ideal[0].data.meas.get_counts()\n",
        "\n",
        "# print the measurment\n",
        "print('Counts(ideal):', counts_ideal)\n",
        "\n",
        "# plot the histogram\n",
        "plot_histogram(counts_ideal)"
      ],
      "metadata": {
        "colab": {
          "base_uri": "https://localhost:8080/",
          "height": 504
        },
        "id": "RfTEj5G8LPf8",
        "outputId": "cf2512a1-d724-4240-cb4b-fbf9ebf31536"
      },
      "execution_count": 7,
      "outputs": [
        {
          "output_type": "stream",
          "name": "stdout",
          "text": [
            "Counts(ideal): {'0': 59, '1': 69}\n"
          ]
        },
        {
          "output_type": "execute_result",
          "data": {
            "text/plain": [
              "<Figure size 640x480 with 1 Axes>"
            ],
            "image/png": "[encoded data removed]"
          },
          "metadata": {},
          "execution_count": 7
        }
      ]
    },
    {
      "cell_type": "markdown",
      "source": [
        "# **Implement a Quantum Coin Flip**\n",
        "- Simulate a fair coin flip using a quantum circuit.\n",
        "- Print the probability of getting Heads or Tails."
      ],
      "metadata": {
        "id": "cS3AsiSQn25V"
      }
    },
    {
      "cell_type": "code",
      "source": [
        "# Intialize the quantum circuit with one quibit\n",
        "circ = qiskit.QuantumCircuit(1)\n",
        "\n",
        "\"\"\"\n",
        "create a hadamrd gate since it creates a superposititon that ensure 50/50 chance for 0 and 1\n",
        "same as a fair coin flip\n",
        "\n",
        "and measure the qubit\n",
        "\"\"\"\n",
        "circ.h(0)\n",
        "circ.measure_all()\n",
        "\n",
        "# Visualize the circuit\n",
        "print(\"Quantum Circuit for Coin Flip:\")\n",
        "circ.draw()"
      ],
      "metadata": {
        "id": "Cd0sDm8Pn1_e",
        "colab": {
          "base_uri": "https://localhost:8080/",
          "height": 111
        },
        "outputId": "cac95e40-7769-45e0-bb39-f362fc9e9395"
      },
      "execution_count": 8,
      "outputs": [
        {
          "output_type": "stream",
          "name": "stdout",
          "text": [
            "Quantum Circuit for Coin Flip:\n"
          ]
        },
        {
          "output_type": "execute_result",
          "data": {
            "text/plain": [
              "        ┌───┐ ░ ┌─┐\n",
              "     q: ┤ H ├─░─┤M├\n",
              "        └───┘ ░ └╥┘\n",
              "meas: 1/═════════╩═\n",
              "                 0 "
            ],
            "text/html": [
              "<pre style=\"word-wrap: normal;white-space: pre;background: #fff0;line-height: 1.1;font-family: &quot;Courier New&quot;,Courier,monospace\">        ┌───┐ ░ ┌─┐\n",
              "     q: ┤ H ├─░─┤M├\n",
              "        └───┘ ░ └╥┘\n",
              "meas: 1/═════════╩═\n",
              "                 0 </pre>"
            ]
          },
          "metadata": {},
          "execution_count": 8
        }
      ]
    },
    {
      "cell_type": "code",
      "source": [
        "\n",
        "sampler = SamplerV2()\n",
        "job = sampler.run([circ], shots=128)\n",
        "\n",
        "# Perform an ideal simulation\n",
        "result_ideal = job.result()\n",
        "counts_ideal = result_ideal[0].data.meas.get_counts()\n",
        "\n",
        "# Calculate probabilities\n",
        "total_shots = sum(counts_ideal.values())\n",
        "prob_heads = counts_ideal.get('0', 0) / total_shots\n",
        "prob_tails = counts_ideal.get('1', 0) / total_shots\n",
        "\n",
        "\"\"\"\n",
        "Print the probabilities\n",
        "let |0⟩ be heads and |1⟩ be tails\n",
        "\"\"\"\n",
        "print(f\"Probability of Heads (|0⟩): {prob_heads:.3f} ~ {(prob_heads * 100)}%\")\n",
        "print(f\"Probability of Tails (|1⟩): {prob_tails:.3f} ~ {(prob_tails * 100)}%\")\n",
        "\n"
      ],
      "metadata": {
        "colab": {
          "base_uri": "https://localhost:8080/"
        },
        "id": "DhNADcEWOITE",
        "outputId": "9c2c195b-530b-43fd-fb5d-6f1d1743e1fa"
      },
      "execution_count": 29,
      "outputs": [
        {
          "output_type": "stream",
          "name": "stdout",
          "text": [
            "Probability of Heads (|0⟩): 0.547 ~ 54.6875%\n",
            "Probability of Tails (|1⟩): 0.453 ~ 45.3125%\n"
          ]
        }
      ]
    },
    {
      "cell_type": "markdown",
      "source": [
        "Expected Output:\n",
        "<br>\n",
        "Probability of Heads (|0⟩): 0.500 ~ 50%\n",
        "<br>\n",
        "Probability of Tails (|1⟩): 0.500 ~ 50%\n",
        "<br>\n",
        "**Note:** The Result could be different but in the range of (40 - 60)%\n"
      ],
      "metadata": {
        "id": "MPVtQkwvPfud"
      }
    },
    {
      "cell_type": "markdown",
      "source": [
        "# Technical Explanation\n",
        "\n",
        "### Superposition\n",
        "The **Hadamard gate** creates the superposition state ∣+⟩, ensuring a 50/50 chance for ∣0⟩ and ∣1⟩.\n",
        "\n",
        "### Measurement\n",
        "We map:\n",
        "- ∣0⟩ → **Heads**\n",
        "- ∣1⟩ → **Tails**\n",
        "\n",
        "### Probabilities\n",
        "Calculated from the measurement counts. With 128 shots, the probabilities should be close to **0.5** ~ **50%** for both outcomes.\n"
      ],
      "metadata": {
        "id": "XNEux4w6Q4uz"
      }
    },
    {
      "cell_type": "markdown",
      "source": [
        "# **Implement a Bell State (Entanglement)**\n",
        "- Create a two-qubit circuit.\n",
        "- Apply a Hadamard gate to the first qubit and a CNOT gate between the two qubits.\n",
        "- Measure both qubits and verify if they are always correlated."
      ],
      "metadata": {
        "id": "vLOg48R-oOXC"
      }
    },
    {
      "cell_type": "code",
      "source": [
        "# Initialize a quantum circuit with two qubits\n",
        "circ = qiskit.QuantumCircuit(2)\n",
        "\n",
        "# Apply Hadamard gate to the first qubit\n",
        "circ.h(0)\n",
        "\n",
        "# Apply CNOT gate to entangle the qubits Measure both qubits\n",
        "circ.cx(0, 1)\n",
        "circ.measure_all()\n",
        "\n",
        "# Visualize the circuit\n",
        "print(\"Quantum Circuit for Bell State:\")\n",
        "circ.draw()"
      ],
      "metadata": {
        "id": "9BX88WD4oNHT",
        "colab": {
          "base_uri": "https://localhost:8080/",
          "height": 142
        },
        "outputId": "16a34507-4fd1-44d6-db02-48fd3d2bf8e1"
      },
      "execution_count": 31,
      "outputs": [
        {
          "output_type": "stream",
          "name": "stdout",
          "text": [
            "Quantum Circuit for Bell State:\n"
          ]
        },
        {
          "output_type": "execute_result",
          "data": {
            "text/plain": [
              "        ┌───┐      ░ ┌─┐   \n",
              "   q_0: ┤ H ├──■───░─┤M├───\n",
              "        └───┘┌─┴─┐ ░ └╥┘┌─┐\n",
              "   q_1: ─────┤ X ├─░──╫─┤M├\n",
              "             └───┘ ░  ║ └╥┘\n",
              "meas: 2/══════════════╩══╩═\n",
              "                      0  1 "
            ],
            "text/html": [
              "<pre style=\"word-wrap: normal;white-space: pre;background: #fff0;line-height: 1.1;font-family: &quot;Courier New&quot;,Courier,monospace\">        ┌───┐      ░ ┌─┐   \n",
              "   q_0: ┤ H ├──■───░─┤M├───\n",
              "        └───┘┌─┴─┐ ░ └╥┘┌─┐\n",
              "   q_1: ─────┤ X ├─░──╫─┤M├\n",
              "             └───┘ ░  ║ └╥┘\n",
              "meas: 2/══════════════╩══╩═\n",
              "                      0  1 </pre>"
            ]
          },
          "metadata": {},
          "execution_count": 31
        }
      ]
    },
    {
      "cell_type": "code",
      "source": [
        "sampler = SamplerV2()\n",
        "job = sampler.run([circ], shots=128)\n",
        "\n",
        "# Perform an ideal simulation\n",
        "result_ideal = job.result()\n",
        "counts_ideal = result_ideal[0].data.meas.get_counts()\n",
        "\n",
        "# Print the ideal measurement results\n",
        "print('Counts(ideal):', counts_ideal)\n",
        "\n",
        "# Visualize the results as a histogram\n",
        "plot_histogram(counts_ideal)"
      ],
      "metadata": {
        "colab": {
          "base_uri": "https://localhost:8080/",
          "height": 504
        },
        "id": "IsCIgmtgR-nW",
        "outputId": "b3a47a3b-b849-45aa-b171-d80b2398ea72"
      },
      "execution_count": 32,
      "outputs": [
        {
          "output_type": "stream",
          "name": "stdout",
          "text": [
            "Counts(ideal): {'00': 77, '11': 51}\n"
          ]
        },
        {
          "output_type": "execute_result",
          "data": {
            "text/plain": [
              "<Figure size 640x480 with 1 Axes>"
            ],
            "image/png": "[encoded data removed]"
          },
          "metadata": {},
          "execution_count": 32
        }
      ]
    },
    {
      "cell_type": "markdown",
      "source": [
        "## Technical Explanation\n",
        "\n",
        "+ ##### **Hadamard Gate** Creates a **superposition** on the first qubit:  \n",
        "\n",
        "\n",
        "+ ##### CNOT Gate **Entangles** the qubits.\n",
        "\n",
        "+ ##### Measurement Should yield only ∣00⟩ or ∣11⟩, confirming **entanglement**."
      ],
      "metadata": {
        "id": "q54nT9CTS5n2"
      }
    },
    {
      "cell_type": "markdown",
      "source": [
        "# **Generate Plus state**\n",
        "![Screenshot 2025-01-31 165304.png](data:image/png;base64,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)"
      ],
      "metadata": {
        "id": "bveDhZxDoo6N"
      }
    },
    {
      "cell_type": "code",
      "source": [
        "# Initialize a quantum circuit with one qubit\n",
        "circ = qiskit.QuantumCircuit(1)\n",
        "\n",
        "# Apply Hadamard gate (H) to create the |+⟩ state\n",
        "circ.h(0)\n",
        "\n",
        "# Measure the qubit to verify the state\n",
        "circ.measure_all()\n",
        "\n",
        "# Visualize the circuit\n",
        "print(\"Quantum Circuit for |+⟩ State:\")\n",
        "circ.draw()"
      ],
      "metadata": {
        "id": "120LLhwWo7S6",
        "colab": {
          "base_uri": "https://localhost:8080/",
          "height": 111
        },
        "outputId": "ad223e16-6e80-4c72-e5c4-139a650126db"
      },
      "execution_count": 33,
      "outputs": [
        {
          "output_type": "stream",
          "name": "stdout",
          "text": [
            "Quantum Circuit for |+⟩ State:\n"
          ]
        },
        {
          "output_type": "execute_result",
          "data": {
            "text/plain": [
              "        ┌───┐ ░ ┌─┐\n",
              "     q: ┤ H ├─░─┤M├\n",
              "        └───┘ ░ └╥┘\n",
              "meas: 1/═════════╩═\n",
              "                 0 "
            ],
            "text/html": [
              "<pre style=\"word-wrap: normal;white-space: pre;background: #fff0;line-height: 1.1;font-family: &quot;Courier New&quot;,Courier,monospace\">        ┌───┐ ░ ┌─┐\n",
              "     q: ┤ H ├─░─┤M├\n",
              "        └───┘ ░ └╥┘\n",
              "meas: 1/═════════╩═\n",
              "                 0 </pre>"
            ]
          },
          "metadata": {},
          "execution_count": 33
        }
      ]
    },
    {
      "cell_type": "code",
      "source": [
        "sampler = SamplerV2()\n",
        "job = sampler.run([circ], shots=128)\n",
        "\n",
        "# Perform an ideal simulation\n",
        "result_ideal = job.result()\n",
        "counts_ideal = result_ideal[0].data.meas.get_counts()\n",
        "\n",
        "# Print the ideal measurement results\n",
        "print('Counts(ideal):', counts_ideal)\n",
        "plot_histogram(counts_ideal)"
      ],
      "metadata": {
        "colab": {
          "base_uri": "https://localhost:8080/",
          "height": 504
        },
        "id": "JK-IsA8PVrFl",
        "outputId": "8f1afee1-ea26-4184-e024-895deb0dbaa6"
      },
      "execution_count": 35,
      "outputs": [
        {
          "output_type": "stream",
          "name": "stdout",
          "text": [
            "Counts(ideal): {'0': 68, '1': 60}\n"
          ]
        },
        {
          "output_type": "execute_result",
          "data": {
            "text/plain": [
              "<Figure size 640x480 with 1 Axes>"
            ],
            "image/png": "[encoded data removed]"
          },
          "metadata": {},
          "execution_count": 35
        }
      ]
    },
    {
      "cell_type": "markdown",
      "source": [
        "## Technical Explanation\n",
        "\n",
        "- **Hadamard Gate**: Directly creates the state ![image.png](data:image/png;base64,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).\n",
        "\n",
        "- **Measurement**: Confirms the state by showing equal probabilities.\n",
        "\n",
        "- **Histogram**: Should display a balanced distribution,  \n",
        "  matching the definition of the state.\n"
      ],
      "metadata": {
        "id": "CyUs6lAeYl3i"
      }
    },
    {
      "cell_type": "markdown",
      "source": [
        "# **Theory Checkins**"
      ],
      "metadata": {
        "id": "hgE622pEsbZj"
      }
    },
    {
      "cell_type": "markdown",
      "source": [
        "### **How does superposition affect the information processing capabilities of a quantum computer?**"
      ],
      "metadata": {
        "id": "L814YOLeBMIx"
      }
    },
    {
      "cell_type": "markdown",
      "source": [
        "Superposition is very important for quantum computer because it can do many things at same time like a qubit can be in superposition, so it is 0 and 1 together. This is not like normal computer where bit is only 0 or 1.\n",
        " <br> If we have 𝑛 qubits, quantum computer can be in 2^𝑛 states all at once. This is why it can do parallel work.<br>\n",
        " so it is faster than normal computer. But when we measure, the superposition goes away, and we get only one answer. So, we must use something called interference to make the right answer more possible before we measure. <br>\n",
        "\n",
        " This are key to algorithms like Grover’s search, which achieves a quadratic speedup by evaluating all possibilities in superposition."
      ],
      "metadata": {
        "id": "cjXyTlpvBSGq"
      }
    },
    {
      "cell_type": "markdown",
      "source": [
        "###How do quantum gates manipulate interference to solve problems faster than classical computers?"
      ],
      "metadata": {
        "id": "81jE0TrxBesX"
      }
    },
    {
      "cell_type": "markdown",
      "source": [
        "Quantum gates are like tools to change quantum states, and they make interference to help solve problems faster. In training, First, Hadamard gate makes superposition, so qubit is in many states at once. Then, there is something called Pauli-X gate (X) changes the phase of the state we want to find. This interference makes the amplitude of the right answer bigger, so we more likely to get it when we measure. I think this is faster because quantum computer can do this in 𝑂(sqrt(𝑁)) steps, but normal computer need O(N)\n",
        "steps. Interference is special for quantum computer—it helps focus on correct answer, not like classical computer."
      ],
      "metadata": {
        "id": "UNnQIL0iBnrP"
      }
    },
    {
      "cell_type": "markdown",
      "source": [
        "### How does measurement collapse a quantum state, and why is it important in quantum computing algorithms?"
      ],
      "metadata": {
        "id": "jYK7KTUeBqBz"
      }
    },
    {
      "cell_type": "markdown",
      "source": [
        "Measurement in quantum computer is when we look at the qubit, and it changes. Before measure, qubit can be in superposition, like:\n",
        "$\n",
        "\\alpha \\lvert 0 \\rangle + \\beta \\lvert 1 \\rangle\n",
        "$\n",
        "so it has both \\(0\\) and \\(1\\).\n",
        " sBut when we measure, it become only:\n",
        "$\n",
        "\\lvert 0 \\rangle \\quad \\text{or} \\quad \\lvert 1 \\rangle\n",
        "$. <br> The chance to get \\($\\lvert 0 \\rangle $\\) is \\( $\\lvert \\alpha \\rvert^2 $\\), and for \\($ \\lvert 1 \\rangle $\\) is \\( $ \\lvert \\beta \\rvert^2 $ \\). This is called collapse, and after collapse, superposition is gone.\n",
        "\n",
        "In training, we make Bell state with two qubits, and when we measure, we see\n",
        "$\n",
        "\\lvert 00 \\rangle \\quad \\text{or} \\quad \\lvert 11 \\rangle\n",
        "$\n",
        "\n",
        "always same for both qubits because they are entangled.<br> Measurement is important because it give us the result of quantum algorithm. But we must be careful—superposition is gone after measure, so we need to make sure the right answer has big chance before we measure.\n"
      ],
      "metadata": {
        "id": "w6bb2u17B6pb"
      }
    },
    {
      "cell_type": "code",
      "source": [],
      "metadata": {
        "id": "1o1oui5ufuEN"
      },
      "execution_count": null,
      "outputs": []
    }
  ]
}
